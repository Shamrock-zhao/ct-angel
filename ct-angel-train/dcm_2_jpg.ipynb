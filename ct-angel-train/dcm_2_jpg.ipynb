{
 "cells": [
  {
   "cell_type": "code",
   "execution_count": 25,
   "metadata": {},
   "outputs": [],
   "source": [
    "# If the CT data you use is in 16-bit dicom format, you can use the following code to convert it to 8-bit jpg."
   ]
  },
  {
   "cell_type": "code",
   "execution_count": null,
   "metadata": {},
   "outputs": [],
   "source": [
    "import pydicom\n",
    "import os\n",
    "import numpy as np\n",
    "import cv2"
   ]
  },
  {
   "cell_type": "code",
   "execution_count": 26,
   "metadata": {},
   "outputs": [],
   "source": [
    "# Adjust window width and window level of CT image\n",
    "def setDicomWinWidthWinCenter(img_data, width=1200, center=-700):\n",
    "    img_temp = img_data\n",
    "    rows =len(img_temp)\n",
    "    cols =len(img_temp[0])\n",
    "    img_temp.flags.writeable =True\n",
    "    val_min = (2 * center - width) /2.0 + 0.5\n",
    "    val_max = (2 * center + width) /2.0 + 0.5\n",
    "    dFactor =255.0 / (val_max - val_min)\n",
    "    for i in np.arange(rows):\n",
    "        for j in np.arange(cols):\n",
    "            img_temp[i, j] =int((img_temp[i, j] - val_min) * dFactor)\n",
    "    min_index = img_temp <0\n",
    "    img_temp[min_index] = 0\n",
    "    max_index = img_temp > 255\n",
    "    img_temp[max_index] = 255\n",
    "    return img_temp"
   ]
  },
  {
   "cell_type": "code",
   "execution_count": 27,
   "metadata": {},
   "outputs": [],
   "source": [
    "# dicom data path before conversion\n",
    "dcm_path = r\"D:\\ct\\dcm\"\n",
    "dcmfiles = os.listdir(path)\n",
    "# the converted jpg image path\n",
    "jpg_path = r\"D:\\ct\\jpg\""
   ]
  },
  {
   "cell_type": "code",
   "execution_count": 28,
   "metadata": {},
   "outputs": [],
   "source": [
    "# 16-bit dicom to 8-bit jpg\n",
    "for df in dcmfiles:\n",
    "    dcm = pydicom.read_file(os.path.join(path, df))\n",
    "    img_tmp = dcm.pixel_array * dcm.RescaleSlope + dcm.RescaleIntercept\n",
    "    new_img = setDicomWinWidthWinCenter(img_tmp)\n",
    "    cv2.imwrite(os.path.join(jpg_path, df[:-3]+'jpg'), new_img)"
   ]
  },
  {
   "cell_type": "code",
   "execution_count": null,
   "metadata": {},
   "outputs": [],
   "source": []
  }
 ],
 "metadata": {
  "kernelspec": {
   "display_name": "Python 3",
   "language": "python",
   "name": "python3"
  },
  "language_info": {
   "codemirror_mode": {
    "name": "ipython",
    "version": 3
   },
   "file_extension": ".py",
   "mimetype": "text/x-python",
   "name": "python",
   "nbconvert_exporter": "python",
   "pygments_lexer": "ipython3",
   "version": "3.6.1"
  },
  "toc": {
   "base_numbering": 1,
   "nav_menu": {},
   "number_sections": true,
   "sideBar": true,
   "skip_h1_title": false,
   "title_cell": "Table of Contents",
   "title_sidebar": "Contents",
   "toc_cell": false,
   "toc_position": {},
   "toc_section_display": true,
   "toc_window_display": false
  }
 },
 "nbformat": 4,
 "nbformat_minor": 2
}
